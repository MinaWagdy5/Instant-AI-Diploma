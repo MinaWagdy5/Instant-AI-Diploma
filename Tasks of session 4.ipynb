{
 "cells": [
  {
   "cell_type": "markdown",
   "id": "cf413bf6",
   "metadata": {},
   "source": [
    "## Task 1"
   ]
  },
  {
   "cell_type": "markdown",
   "id": "12c2608e",
   "metadata": {},
   "source": [
    "### What is graph in python"
   ]
  },
  {
   "cell_type": "markdown",
   "id": "09b04c60",
   "metadata": {},
   "source": [
    "A graph is a data structure you can use to model hierarchy and relationships between objects. It consists of a set of nodes and a set of edges. Nodes represent individual objects, while edges illustrate relationships between those objects.<br>\n",
    "If every edge in a graph illustrates a two-way connection, we call that graph undirected. On the other hand, if you can traverse each edge in only one direction, the graph is directed.<br>\n",
    "Not all nodes of a graph need to be connected with others. If you can access each node from any other node in a graph - we call that graph connected. But sometimes there are some nodes you can't access from any other node in a graph - that's what disconnected graphs are all about. The common misconception is that every graph has to be connected, but the reality of the matter is that it doesn't - in fact, a graph can contain no edges, just nodes:<br>\n",
    "From the implementation standpoint, the one last thing we need to cover is the weight of an edge. It is a numeric value assigned to the edge describing how much it costs to traverse that edge. The smaller the weight of an edge, the cheaper it is to traverse it. Based on that, graphs with weights assigned to their edges are called weighted graphs:<br>\n"
   ]
  },
  {
   "cell_type": "markdown",
   "id": "de74f1a4",
   "metadata": {},
   "source": [
    "#### List of edges implementation"
   ]
  },
  {
   "cell_type": "code",
   "execution_count": 1,
   "id": "6dbf3b1c",
   "metadata": {},
   "outputs": [
    {
     "ename": "TabError",
     "evalue": "inconsistent use of tabs and spaces in indentation (3436392157.py, line 5)",
     "output_type": "error",
     "traceback": [
      "\u001b[1;36m  Cell \u001b[1;32mIn[1], line 5\u001b[1;36m\u001b[0m\n\u001b[1;33m    self.m_directed = directed\u001b[0m\n\u001b[1;37m    ^\u001b[0m\n\u001b[1;31mTabError\u001b[0m\u001b[1;31m:\u001b[0m inconsistent use of tabs and spaces in indentation\n"
     ]
    }
   ],
   "source": [
    "class Graph:\n",
    "    # Constructor\n",
    "    def __init__(self, num_of_nodes, directed=True):\n",
    "        self.m_num_of_nodes = num_of_nodes\n",
    "\t\tself.m_directed = directed\n",
    "        \n",
    "        # Different representations of a graph\n",
    "        self.m_list_of_edges = []\n",
    "\t\n",
    "    # Add edge to a graph\n",
    "    def add_edge(self, node1, node2, weight=1):        \n",
    "        # Add the edge from node1 to node2\n",
    "        self.m_list_of_edges.append([node1, node2, weight])\n",
    "        \n",
    "        # If a graph is undirected, add the same edge,\n",
    "        # but also in the opposite direction\n",
    "        if not self.m_directed:\n",
    "            self.m_list_of_edges.append([node1, node2, weight])\n",
    "\n",
    "\t# Print a graph representation\n",
    "    def print_edge_list(self):\n",
    "        num_of_edges = len(self.m_list_of_edges)\n",
    "        for i in range(num_of_edges):\n",
    "            print(\"edge \", i+1, \": \", self.m_list_of_edges[i])"
   ]
  },
  {
   "cell_type": "code",
   "execution_count": 2,
   "id": "408ce36d",
   "metadata": {},
   "outputs": [
    {
     "ename": "NameError",
     "evalue": "name 'Graph' is not defined",
     "output_type": "error",
     "traceback": [
      "\u001b[1;31m---------------------------------------------------------------------------\u001b[0m",
      "\u001b[1;31mNameError\u001b[0m                                 Traceback (most recent call last)",
      "Cell \u001b[1;32mIn[2], line 1\u001b[0m\n\u001b[1;32m----> 1\u001b[0m graph \u001b[38;5;241m=\u001b[39m \u001b[43mGraph\u001b[49m(\u001b[38;5;241m5\u001b[39m)\n\u001b[0;32m      3\u001b[0m graph\u001b[38;5;241m.\u001b[39madd_edge(\u001b[38;5;241m0\u001b[39m, \u001b[38;5;241m0\u001b[39m, \u001b[38;5;241m25\u001b[39m)\n\u001b[0;32m      4\u001b[0m graph\u001b[38;5;241m.\u001b[39madd_edge(\u001b[38;5;241m0\u001b[39m, \u001b[38;5;241m1\u001b[39m, \u001b[38;5;241m5\u001b[39m)\n",
      "\u001b[1;31mNameError\u001b[0m: name 'Graph' is not defined"
     ]
    }
   ],
   "source": [
    "graph = Graph(5)\n",
    "\n",
    "graph.add_edge(0, 0, 25)\n",
    "graph.add_edge(0, 1, 5)\n",
    "graph.add_edge(0, 2, 3)\n",
    "graph.add_edge(1, 3, 1)\n",
    "graph.add_edge(1, 4, 15)\n",
    "graph.add_edge(4, 2, 7)\n",
    "graph.add_edge(4, 3, 11)\n",
    "\n",
    "graph.print_edge_list()"
   ]
  },
  {
   "cell_type": "markdown",
   "id": "1ac881a0",
   "metadata": {},
   "source": [
    "#### Implement an Adjacency Matrix in Python"
   ]
  },
  {
   "cell_type": "code",
   "execution_count": null,
   "id": "2b61bf4f",
   "metadata": {},
   "outputs": [],
   "source": [
    "class Graph:\n",
    "    def __init__(self, num_of_nodes, directed=True):\n",
    "        self.m_num_of_nodes = num_of_nodes\n",
    "        self.m_directed = directed\n",
    "\n",
    "        # Initialize the adjacency matrix\n",
    "        # Create a matrix with `num_of_nodes` rows and columns\n",
    "        self.m_adj_matrix = [[0 for column in range(num_of_nodes)] \n",
    "                            for row in range(num_of_nodes)]\n",
    "\n",
    "    def add_edge(self, node1, node2, weight=1):\n",
    "        self.m_adj_matrix[node1][node2] = weight\n",
    "\n",
    "        if not self.m_directed:\n",
    "            self.m_adj_matrix[node2][node1] = weight\n",
    "\n",
    "    def print_adj_matrix(self):\n",
    "        print(self.m_adj_matrix)"
   ]
  },
  {
   "cell_type": "code",
   "execution_count": null,
   "id": "9b33256b",
   "metadata": {},
   "outputs": [],
   "source": [
    "graph = Graph(5)\n",
    "\n",
    "graph.add_edge(0, 0, 25)\n",
    "graph.add_edge(0, 1, 5)\n",
    "graph.add_edge(0, 2, 3)\n",
    "graph.add_edge(1, 3, 1)\n",
    "graph.add_edge(1, 4, 15)\n",
    "graph.add_edge(4, 2, 7)\n",
    "graph.add_edge(4, 3, 11)\n",
    "\n",
    "graph.print_edge_list()\n"
   ]
  },
  {
   "cell_type": "markdown",
   "id": "43f1106a",
   "metadata": {},
   "source": [
    "#### Implement an Adjacency List in Python"
   ]
  },
  {
   "cell_type": "code",
   "execution_count": null,
   "id": "58aab068",
   "metadata": {},
   "outputs": [],
   "source": [
    "class Graph:\n",
    "    def __init__(self, num_of_nodes, directed=True):\n",
    "        self.m_num_of_nodes = num_of_nodes\n",
    "        self.m_nodes = range(self.m_num_of_nodes)\n",
    "\n",
    "        # Define the type of a graph\n",
    "        self.m_directed = directed\n",
    "\n",
    "        self.m_adj_list = {node: set() for node in self.m_nodes}      \n",
    "\n",
    "    def add_edge(self, node1, node2, weight=1):\n",
    "        self.m_adj_list[node1].add((node2, weight))\n",
    "        \n",
    "        if not self.m_directed:\n",
    "        \tself.m_adj_list[node2].add((node1, weight))\n",
    "\n",
    "    def print_adj_list(self):\n",
    "        for key in self.m_adj_list.keys():\n",
    "            print(\"node\", key, \": \", self.m_adj_list[key])\n"
   ]
  },
  {
   "cell_type": "code",
   "execution_count": null,
   "id": "f5b76720",
   "metadata": {},
   "outputs": [],
   "source": [
    "graph = Graph(5)\n",
    "\n",
    "graph.add_edge(0, 0, 25)\n",
    "graph.add_edge(0, 1, 5)\n",
    "graph.add_edge(0, 2, 3)\n",
    "graph.add_edge(1, 3, 1)\n",
    "graph.add_edge(1, 4, 15)\n",
    "graph.add_edge(4, 2, 7)\n",
    "graph.add_edge(4, 3, 11)\n",
    "\n",
    "graph.print_edge_list()"
   ]
  },
  {
   "cell_type": "markdown",
   "id": "1692e8b0",
   "metadata": {},
   "source": [
    "## Task 2"
   ]
  },
  {
   "cell_type": "markdown",
   "id": "4b382463",
   "metadata": {},
   "source": [
    "### Most used basic container in different languages"
   ]
  },
  {
   "cell_type": "markdown",
   "id": "e8f5e475",
   "metadata": {},
   "source": [
    "### C++\n",
    "Array: Arrays are commonly used in C++ for storing collections of items of the same data type with a fixed size.\n",
    "Vector: Vectors are commonly used in C++ for storing collections of items of any data type that can be dynamically resized.\n",
    "Map: Maps are commonly used in C++ for storing collections of key-value pairs, where each key is unique and the values can be of different data types.\n",
    "Set: Sets are commonly used in C++ for storing collections of unique items that are unordered and unindexed.\n",
    "### Java:\n",
    "Array: Arrays are commonly used in Java for storing collections of items of the same data type with a fixed size.\n",
    "ArrayList: ArrayLists are commonly used in Java for storing collections of items of any data type that can be dynamically resized.\n",
    "HashMap: HashMaps are commonly used in Java for storing collections of key-value pairs, where each key is unique and the values can be of different data types.\n",
    "HashSet: HashSets are commonly used in Java for storing collections of unique items that are unordered and unindexed.\n",
    "### R:\n",
    "Vector: Vectors are commonly used in R for storing collections of items of the same data type.\n",
    "List: Lists are commonly used in R for storing collections of items of any data type.\n",
    "Data frames: Data frames are commonly used in R for storing collections of data that are similar to tables in a relational database.\n",
    "Factors: Factors are commonly used in R for storing categorical data.\n",
    "### JavaScript:\n",
    "Array: Arrays are commonly used in JavaScript for storing collections of items of any data type that can be dynamically resized.\n",
    "Object: Objects are commonly used in JavaScript for storing collections of key-value pairs, where the keys are strings and the values can be of any data type.\n",
    "Set: Sets are commonly used in JavaScript for storing collections of unique items that are unordered and unindexed.\n",
    "Map: Maps are also available in JavaScript, but they are less commonly used than arrays and objects.\n",
    "### C:\n",
    "Array: Arrays are commonly used in C for storing collections of items of the same data type with a fixed size.\n",
    "Struct: Structs are commonly used in C for storing collections of related data items of different data types.\n",
    "Linked list: Linked lists are commonly used in C for storing collections of items of any data type that can be dynamically resized.\n",
    "Queue: Queues are commonly used in C for storing collections of items in a first-in, first-out (FIFO) order."
   ]
  }
 ],
 "metadata": {
  "kernelspec": {
   "display_name": "Python 3 (ipykernel)",
   "language": "python",
   "name": "python3"
  },
  "language_info": {
   "codemirror_mode": {
    "name": "ipython",
    "version": 3
   },
   "file_extension": ".py",
   "mimetype": "text/x-python",
   "name": "python",
   "nbconvert_exporter": "python",
   "pygments_lexer": "ipython3",
   "version": "3.10.9"
  }
 },
 "nbformat": 4,
 "nbformat_minor": 5
}
