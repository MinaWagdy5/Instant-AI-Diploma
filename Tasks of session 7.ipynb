{
 "cells": [
  {
   "cell_type": "markdown",
   "id": "0f417839",
   "metadata": {},
   "source": [
    "## DevOps tools\n",
    "DevOps is a software development methodology that emphasizes collaboration and communication between development and operations teams, with the goal of delivering software more quickly and reliably. There are several tools that can be used to support DevOps practices, including:\n",
    "\n",
    "Continuous Integration (CI) tools: These tools automate the process of building, testing, and merging code changes. Popular CI tools include Jenkins, Travis CI, and CircleCI.\n",
    "\n",
    "Configuration Management tools: These tools automate the process of configuring and managing servers and infrastructure. Popular configuration management tools include Chef, Puppet, and Ansible.\n",
    "\n",
    "Continuous Deployment (CD) tools: These tools automate the process of deploying code changes to production environments. Popular CD tools include AWS CodeDeploy, Azure DevOps, and Google Cloud Build.\n",
    "\n",
    "Containerization tools: These tools enable developers to package applications and dependencies into lightweight, portable containers that can be deployed consistently across different environments. Popular containerization tools include Docker and Kubernetes.\n",
    "\n",
    "Monitoring and Logging tools: These tools help teams monitor the health and performance of their applications and infrastructure, and provide insights into issues and errors. Popular monitoring and logging tools include Nagios, Splunk, and ELK Stack.\n",
    "\n",
    "Collaboration and Communication tools: These tools help teams communicate and collaborate effectively, and include tools for chat, video conferencing, project management, and documentation. Popular collaboration and communication tools include Slack, Jira, and Confluence.\n",
    "\n",
    "The specific tools used in a DevOps environment can vary depending on the organization's needs and preferences."
   ]
  },
  {
   "cell_type": "markdown",
   "id": "f5008d29",
   "metadata": {},
   "source": [
    "## Comparison between DevOps and Agile\n",
    "DevOps and Agile are both software development methodologies that share some similarities but also have some key differences.\n",
    "\n",
    "Agile is a software development methodology that emphasizes iterative development, collaboration, and rapid delivery of working software. It is focused on delivering value to the customer through early and continuous delivery of software. Agile teams work in short cycles, typically 2-4 weeks, called sprints, and they prioritize flexibility, adaptability, and customer satisfaction. Agile methodology is not limited to software development and can be used in other industries to manage projects.\n",
    "\n",
    "DevOps, on the other hand, is a software development methodology that emphasizes collaboration and communication between development and operations teams, with the goal of delivering software more quickly and reliably. DevOps aims to break down silos between teams and create a culture of shared responsibility for development, testing, deployment, and operations. It is focused on automating the entire software delivery process, from code changes to production deployments, to improve efficiency and reduce errors.\n",
    "\n",
    "Some key differences between Agile and DevOps include:\n",
    "\n",
    "Focus: Agile focuses on delivering value to the customer through iterative development, while DevOps focuses on improving the efficiency and reliability of the software delivery process.\n",
    "\n",
    "Teams: Agile teams typically consist of developers, testers, and business analysts, while DevOps teams also include operations and infrastructure specialists.\n",
    "\n",
    "Processes: Agile focuses on delivering working software in short cycles, while DevOps focuses on automating the entire software delivery process to reduce manual effort and improve reliability.\n",
    "\n",
    "Culture: Agile emphasizes collaboration and teamwork, while DevOps emphasizes a culture of shared responsibility and continuous improvement.\n",
    "\n",
    "In summary, Agile and DevOps are both methodologies that aim to improve software development processes, but they have different focuses and approaches. Agile emphasizes delivering value to the customer through iterative development, while DevOps emphasizes improving the efficiency and reliability of the software delivery process through collaboration and automation."
   ]
  },
  {
   "cell_type": "markdown",
   "id": "ac1b559e",
   "metadata": {},
   "source": [
    "## DataOps\n",
    "\n",
    "DataOps is a methodology that applies DevOps principles and practices to the data analytics process. It aims to improve the efficiency, quality, and reliability of data analytics by breaking down silos between teams, automating processes, and emphasizing collaboration and communication.\n",
    "\n",
    "DataOps involves integrating data acquisition, data processing, and data consumption into a single, automated, and continuous workflow. This requires close collaboration between data engineers, data analysts, data scientists, and other stakeholders involved in the data analytics process.\n",
    "\n",
    "Some key principles of DataOps include:\n",
    "\n",
    "Continuous Integration and Delivery: DataOps emphasizes the importance of automating the data analytics process, from data acquisition to data consumption, to ensure that data is delivered quickly and reliably.\n",
    "\n",
    "Version Control: DataOps emphasizes the importance of version control for data artifacts, such as data pipelines, data models, and data reports, to enable collaboration, track changes, and ensure reproducibility.\n",
    "\n",
    "Testing: DataOps emphasizes the importance of testing data artifacts to ensure that they are accurate, complete, and consistent.\n",
    "\n",
    "Monitoring and Alerting: DataOps emphasizes the importance of monitoring data pipelines and data systems to detect issues and errors early and alert stakeholders for timely resolution.\n",
    "\n",
    "Collaboration and Communication: DataOps emphasizes the importance of collaboration and communication between data engineers, data analysts, data scientists, and other stakeholders involved in the data analytics process to ensure that everyone is aligned on goals, priorities, and expectations.\n",
    "\n",
    "In summary, DataOps is a methodology that applies DevOps principles and practices to the data analytics process. It emphasizes collaboration, automation, and continuous improvement to improve the efficiency, quality, and reliability of data analytics."
   ]
  },
  {
   "cell_type": "markdown",
   "id": "683f1675",
   "metadata": {},
   "source": [
    "## MLOps\n",
    "\n",
    "MLOps is a methodology that applies DevOps principles and practices to the machine learning (ML) process. It aims to improve the efficiency, quality, and reliability of ML models by breaking down silos between teams, automating processes, and emphasizing collaboration and communication.\n",
    "\n",
    "MLOps involves integrating the ML development, deployment, and monitoring into a single, automated, and continuous workflow. This requires close collaboration between data scientists, ML engineers, software developers, and other stakeholders involved in the ML process.\n",
    "\n",
    "Some key principles of MLOps include:\n",
    "\n",
    "Continuous Integration and Delivery: MLOps emphasizes the importance of automating the ML process, from data preparation to model training and deployment, to ensure that models are delivered quickly and reliably.\n",
    "\n",
    "Version Control: MLOps emphasizes the importance of version control for ML artifacts, such as data sets, models, and code, to enable collaboration, track changes, and ensure reproducibility.\n",
    "\n",
    "Testing: MLOps emphasizes the importance of testing ML models to ensure that they are accurate, robust, and fair.\n",
    "\n",
    "Monitoring and Alerting: MLOps emphasizes the importance of monitoring ML models in production to detect issues and errors early and alert stakeholders for timely resolution.\n",
    "\n",
    "Collaboration and Communication: MLOps emphasizes the importance of collaboration and communication between data scientists, ML engineers, software developers, and other stakeholders involved in the ML process to ensure that everyone is aligned on goals, priorities, and expectations.\n",
    "\n",
    "In summary, MLOps is a methodology that applies DevOps principles and practices to the machine learning process. It emphasizes collaboration, automation, and continuous improvement to improve the efficiency, quality, and reliability of ML models."
   ]
  },
  {
   "cell_type": "markdown",
   "id": "8b15e53a",
   "metadata": {},
   "source": [
    "## V-Model\n",
    "The V-Model is a software development methodology that is often used in mission-critical software development projects. It is a variation of the waterfall model, where the development process is divided into phases, and each phase is completed before moving on to the next one. The V-Model is called so(3ashan kol mar7ala bt5ls by7sl el testing bet3ha in parallel in shape of letter v) because its development process looks like the letter \"V\".\n",
    "\n",
    "Some of the advantages of the V-Model are:\n",
    "\n",
    "Design and Planning: The V-Model emphasizes the importance of planning and design at the early stages of the project. This helps to ensure that the project requirements are well defined, and the development team has a clear understanding of what needs to be done.\n",
    "\n",
    "Clear Progression: The V-Model has a clear and structured progression of development phases, which helps to ensure that each phase is completed before moving on to the next one. This helps to prevent mistakes and reduces the risk of having to redo work that has already been completed.\n",
    "\n",
    "Well-defined Requirements: The V-Model requires that requirements are well defined before the development process begins. This helps to prevent misunderstandings between the development team and the stakeholders, which can lead to expensive rework later in the project.\n",
    "\n",
    "Increased Testing: The V-Model emphasizes the importance of testing at every stage of the development process. This helps to identify defects early in the development process, reducing the risk of defects being found in production.\n",
    "\n",
    "Clear Documentation: The V-Model requires that documentation is produced at every stage of the development process. This helps to ensure that the development team has a clear understanding of what needs to be done, and it also provides a clear record of the project's progress.\n",
    "\n",
    "In summary, the V-Model is a software development methodology that emphasizes planning, design, and testing. Its clear and structured progression of development phases helps to ensure that each phase is completed before moving on to the next one, reducing the risk of mistakes and rework. The V-Model also emphasizes the importance of clear requirements and documentation, which helps to prevent misunderstandings and provides a clear record of the project's progress."
   ]
  },
  {
   "cell_type": "markdown",
   "id": "93051d12",
   "metadata": {},
   "source": [
    "## What is the difference between Design pattern & Architecture pattern?\n",
    "Design patterns and architecture patterns are two related concepts in software engineering.\n",
    "\n",
    "Design patterns are reusable solutions to commonly occurring problems in software design. They provide a way to solve problems that arise during software development in a proven and tested way. Design patterns are typically focused on specific aspects of software design, such as object-oriented programming, and they provide guidance on how to structure code to achieve specific goals.\n",
    "\n",
    "Architecture patterns, on the other hand, are high-level design templates that provide a framework for organizing and structuring entire software systems. They are focused on the overall organization and structure of software systems, rather than specific code-level details. Architecture patterns provide a way to break down a complex system into smaller, more manageable components, and provide guidance on how those components should interact with one another to achieve specific goals.\n",
    "\n",
    "The key difference between design patterns and architecture patterns is that design patterns are focused on solving specific problems at the code level, while architecture patterns are focused on solving larger, more complex problems at the system level. Design patterns are typically used to solve specific problems that arise during software development, while architecture patterns are used to guide the overall design and structure of entire software systems.\n",
    "\n",
    "Architecture patterns are typically used when developing large, complex software systems that require a high degree of organization and structure. They provide a way to ensure that the software system is designed in a way that is scalable, maintainable, and adaptable to changing requirements over time. Architecture patterns are particularly useful in situations where multiple teams are working on different parts of the system, as they provide a common framework for organizing and structuring the system that all teams can follow.\n",
    "\n",
    "In summary, design patterns are reusable solutions to specific problems in software design, while architecture patterns are high-level design templates that provide a framework for organizing and structuring entire software systems. Architecture patterns are typically used when developing large, complex software systems that require a high degree of organization and structure, and are useful in situations where multiple teams are working on different parts of the system."
   ]
  },
  {
   "cell_type": "markdown",
   "id": "09a89678",
   "metadata": {},
   "source": [
    "## OOP project"
   ]
  },
  {
   "cell_type": "code",
   "execution_count": 5,
   "id": "357d12d2",
   "metadata": {},
   "outputs": [],
   "source": [
    "class User():\n",
    "    def __init__(self,name,age,gender):\n",
    "        self.name=name\n",
    "        self.age=age\n",
    "        self.gender=gender\n",
    "    def show_details(self):\n",
    "        print(\"Personal Details\")\n",
    "        print(\"\")\n",
    "        print(\"Name \",self.name)\n",
    "        print(\"Age \",self.age)\n",
    "        print(\"Gender \",self.gender)\n",
    "\n",
    "class Bank(User):\n",
    "    def __init__(self,name,age,gender):\n",
    "        super().__init__(name,age,gender)\n",
    "        self.balance=0\n",
    "        \n",
    "    def deposit(self,amount):\n",
    "        self.amount=amount\n",
    "        self.balance = self.balance + amount\n",
    "        print(\"Account balance has been updated: $\",self.balance)\n",
    "    \n",
    "    def withdraw(self,amount):\n",
    "            self.amount=amount\n",
    "            if(self.amount>self.balance):\n",
    "                print(\"Insufficient Funds | Balance available: $\",self.balance)\n",
    "            else:\n",
    "                self.balance = self.balance- amount\n",
    "                print('Account balance has been updated: $',self.balance)\n",
    "    \n",
    "    def view_balance(self):\n",
    "        self.show_details()\n",
    "        print('Account balance: $',self.balance)"
   ]
  }
 ],
 "metadata": {
  "kernelspec": {
   "display_name": "Python 3 (ipykernel)",
   "language": "python",
   "name": "python3"
  },
  "language_info": {
   "codemirror_mode": {
    "name": "ipython",
    "version": 3
   },
   "file_extension": ".py",
   "mimetype": "text/x-python",
   "name": "python",
   "nbconvert_exporter": "python",
   "pygments_lexer": "ipython3",
   "version": "3.10.9"
  }
 },
 "nbformat": 4,
 "nbformat_minor": 5
}
