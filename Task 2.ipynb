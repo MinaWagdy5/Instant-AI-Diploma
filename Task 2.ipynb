{
 "cells": [
  {
   "cell_type": "markdown",
   "id": "69f12ccf",
   "metadata": {},
   "source": [
    "##### 1"
   ]
  },
  {
   "cell_type": "code",
   "execution_count": 13,
   "id": "4d19ae89",
   "metadata": {},
   "outputs": [
    {
     "name": "stdout",
     "output_type": "stream",
     "text": [
      "4\n",
      "4\n"
     ]
    }
   ],
   "source": [
    "# first method\n",
    "\n",
    "string = \"mina\"\n",
    "print(len(string))\n",
    "\n",
    "# second method \n",
    "\n",
    "counter = 0 \n",
    "for i in string:\n",
    "    counter += 1\n",
    "print(counter)"
   ]
  },
  {
   "cell_type": "markdown",
   "id": "1d5cc2f2",
   "metadata": {},
   "source": [
    "##### 2"
   ]
  },
  {
   "cell_type": "code",
   "execution_count": 21,
   "id": "9dfdd001",
   "metadata": {},
   "outputs": [
    {
     "name": "stdout",
     "output_type": "stream",
     "text": [
      "w3resource\n",
      "w3ce\n"
     ]
    }
   ],
   "source": [
    "input_string = input()\n",
    "if len(input_string) < 2:\n",
    "    print(\"Empty String\")\n",
    "else:\n",
    "    print(input_string[0:2]+input_string[len(input_string)-2]+input_string[-1])"
   ]
  },
  {
   "cell_type": "markdown",
   "id": "4e8a3534",
   "metadata": {},
   "source": [
    "##### 3"
   ]
  },
  {
   "cell_type": "code",
   "execution_count": 23,
   "id": "68c50acd",
   "metadata": {},
   "outputs": [
    {
     "name": "stdout",
     "output_type": "stream",
     "text": [
      "abcing\n",
      "abcingly\n"
     ]
    }
   ],
   "source": [
    "input_string = input()\n",
    "if len(input_string) < 3:\n",
    "    print(input_string)\n",
    "else:\n",
    "    if input_string.endswith(\"ing\"):\n",
    "        print(input_string+\"ly\")\n",
    "    else:\n",
    "        print(input_string+\"ing\")"
   ]
  },
  {
   "cell_type": "markdown",
   "id": "9773e1f9",
   "metadata": {},
   "source": [
    "##### 4"
   ]
  },
  {
   "cell_type": "code",
   "execution_count": 37,
   "id": "d0a62b55",
   "metadata": {
    "scrolled": true
   },
   "outputs": [
    {
     "name": "stdout",
     "output_type": "stream",
     "text": [
      "longest word: ibrahimovic\n",
      "Length of the longest word: 11\n"
     ]
    }
   ],
   "source": [
    "names = [\"Ahmed\" , \"exercises\" , \"mina\" , \"Hamada\" ,\"ibrahimovic\"]\n",
    "longest_word = \" \"\n",
    "max_length = 0\n",
    "for name in names:\n",
    "    if len(name) > len(longest_word):\n",
    "        longest_word = name\n",
    "        max_length = len(longest_word)\n",
    "print(\"longest word: \"+longest_word)\n",
    "print(\"Length of the longest word:\",max_length)"
   ]
  },
  {
   "cell_type": "markdown",
   "id": "2fffe916",
   "metadata": {},
   "source": [
    "##### 5"
   ]
  },
  {
   "cell_type": "code",
   "execution_count": 42,
   "id": "b88c2cd6",
   "metadata": {},
   "outputs": [
    {
     "name": "stdout",
     "output_type": "stream",
     "text": [
      "ainm\n"
     ]
    }
   ],
   "source": [
    "string = \"mina\"\n",
    "print(string[-1]+string[1:-1]+string[0])"
   ]
  },
  {
   "cell_type": "markdown",
   "id": "ac3102c2",
   "metadata": {},
   "source": [
    "##### 6"
   ]
  },
  {
   "cell_type": "code",
   "execution_count": 43,
   "id": "f35eb66d",
   "metadata": {},
   "outputs": [
    {
     "name": "stdout",
     "output_type": "stream",
     "text": [
      "mn\n"
     ]
    }
   ],
   "source": [
    "string = \"mina\"\n",
    "print(string[0::2])"
   ]
  },
  {
   "cell_type": "markdown",
   "id": "5b5a15e4",
   "metadata": {},
   "source": [
    "##### 7 ***"
   ]
  },
  {
   "cell_type": "code",
   "execution_count": 48,
   "id": "09ca3553",
   "metadata": {},
   "outputs": [
    {
     "name": "stdout",
     "output_type": "stream",
     "text": [
      "Enter a sentence: amr and ahmed are frindes but amr is the tallest\n",
      "Word count:\n",
      "amr : 2\n",
      "and : 1\n",
      "ahmed : 1\n",
      "are : 1\n",
      "frindes : 1\n",
      "but : 1\n",
      "is : 1\n",
      "the : 1\n",
      "tallest : 1\n"
     ]
    }
   ],
   "source": [
    "sentence = input(\"Enter a sentence: \")\n",
    "words = sentence.split()\n",
    "\n",
    "word_count = {}\n",
    "for word in words:\n",
    "    if word in word_count:\n",
    "        word_count[word] += 1\n",
    "    else:\n",
    "        word_count[word] = 1\n",
    "\n",
    "print(\"Word count:\")\n",
    "for word, count in word_count.items():\n",
    "    print(word, \":\", count)"
   ]
  },
  {
   "cell_type": "markdown",
   "id": "6c4f947f",
   "metadata": {},
   "source": [
    "##### 8"
   ]
  },
  {
   "cell_type": "code",
   "execution_count": 50,
   "id": "98dc65ce",
   "metadata": {},
   "outputs": [
    {
     "name": "stdout",
     "output_type": "stream",
     "text": [
      "mina\n",
      "MINA\n",
      "mina\n"
     ]
    }
   ],
   "source": [
    "String = input()\n",
    "print(string.upper())\n",
    "print(string.lower())"
   ]
  },
  {
   "cell_type": "markdown",
   "id": "a6695700",
   "metadata": {},
   "source": [
    "##### 9"
   ]
  },
  {
   "cell_type": "code",
   "execution_count": 52,
   "id": "9588ae27",
   "metadata": {},
   "outputs": [
    {
     "name": "stdout",
     "output_type": "stream",
     "text": [
      "mina\n"
     ]
    },
    {
     "data": {
      "text/plain": [
       "'anim'"
      ]
     },
     "execution_count": 52,
     "metadata": {},
     "output_type": "execute_result"
    }
   ],
   "source": [
    "    \n",
    "def reverse_string(s):\n",
    "    if len(s) % 4 == 0:\n",
    "        return s[::-1]\n",
    "    else:\n",
    "        return s\n",
    "    \n",
    "reverse_string(input())"
   ]
  },
  {
   "cell_type": "markdown",
   "id": "13b1142a",
   "metadata": {},
   "source": [
    "##### 10"
   ]
  },
  {
   "cell_type": "code",
   "execution_count": 57,
   "id": "28501dc1",
   "metadata": {},
   "outputs": [
    {
     "name": "stdout",
     "output_type": "stream",
     "text": [
      "          mina\n",
      "mina\n"
     ]
    }
   ],
   "source": [
    "string = input()\n",
    "string = string.strip()\n",
    "print(string)"
   ]
  },
  {
   "cell_type": "markdown",
   "id": "0bb093e6",
   "metadata": {},
   "source": [
    "##### 11\n"
   ]
  },
  {
   "cell_type": "code",
   "execution_count": 58,
   "id": "0f42687b",
   "metadata": {},
   "outputs": [
    {
     "name": "stdout",
     "output_type": "stream",
     "text": [
      "True\n"
     ]
    }
   ],
   "source": [
    "string = \"mina\"\n",
    "print(string.startswith(\"m\"))"
   ]
  },
  {
   "cell_type": "markdown",
   "id": "249c230d",
   "metadata": {},
   "source": [
    "##### 12"
   ]
  },
  {
   "cell_type": "code",
   "execution_count": 2,
   "id": "7b080f9a",
   "metadata": {},
   "outputs": [
    {
     "name": "stdout",
     "output_type": "stream",
     "text": [
      "Ahmed byl3b fel mal3ab\n",
      "['Prefix: Ahmed', 'Prefix: byl3b', 'Prefix: fel', 'Prefix: mal3ab']\n"
     ]
    }
   ],
   "source": [
    "string = input()\n",
    "prefix = \"Prefix: \"\n",
    "lines = string.split(\" \")\n",
    "prefixed_lines = [prefix + line for line in lines]\n",
    "print(prefixed_lines)"
   ]
  },
  {
   "cell_type": "markdown",
   "id": "a4bc5e90",
   "metadata": {},
   "source": [
    "##### 13"
   ]
  },
  {
   "cell_type": "code",
   "execution_count": 12,
   "id": "c31cb55c",
   "metadata": {},
   "outputs": [
    {
     "name": "stdout",
     "output_type": "stream",
     "text": [
      "3.14\n",
      "1.23\n",
      "0.57\n",
      "9.88\n"
     ]
    }
   ],
   "source": [
    "numbers = [3.1415, 1.2345, 0.5678, 9.8765]\n",
    "for number in numbers:\n",
    "    print(round(number , 2))"
   ]
  },
  {
   "cell_type": "markdown",
   "id": "3be72005",
   "metadata": {},
   "source": [
    "##### 14"
   ]
  },
  {
   "cell_type": "code",
   "execution_count": 17,
   "id": "0eb7316b",
   "metadata": {},
   "outputs": [
    {
     "name": "stdout",
     "output_type": "stream",
     "text": [
      "+3.14\n",
      "-1.23\n",
      "+0.57\n",
      "-9.88\n"
     ]
    }
   ],
   "source": [
    "numbers = [3.1415, -1.2345, 0.5678, -9.8765]\n",
    "\n",
    "for number in numbers:\n",
    "    formatted_number = \"{:+.2f}\".format(number)\n",
    "    print(formatted_number)"
   ]
  },
  {
   "cell_type": "markdown",
   "id": "1052a91c",
   "metadata": {},
   "source": [
    "##### 15"
   ]
  },
  {
   "cell_type": "code",
   "execution_count": 22,
   "id": "043ce5d5",
   "metadata": {},
   "outputs": [
    {
     "name": "stdout",
     "output_type": "stream",
     "text": [
      "124,578\n"
     ]
    }
   ],
   "source": [
    "number = 124578\n",
    "formatted_number = \"{:,}\".format(number)\n",
    "print(formatted_number)"
   ]
  },
  {
   "cell_type": "markdown",
   "id": "bd927766",
   "metadata": {},
   "source": [
    "##### 16"
   ]
  },
  {
   "cell_type": "code",
   "execution_count": 24,
   "id": "5627197b",
   "metadata": {},
   "outputs": [
    {
     "name": "stdout",
     "output_type": "stream",
     "text": [
      "hello world\n",
      "dlrow olleh\n",
      "dlrow olleh\n"
     ]
    }
   ],
   "source": [
    "# first method\n",
    "\n",
    "string = input()\n",
    "print(string[::-1])\n",
    "\n",
    "# second method\n",
    "\n",
    "reversed_string = \"\"\n",
    "for char in string:\n",
    "    reversed_string = char + reversed_string\n",
    "print(reversed_string)    "
   ]
  },
  {
   "cell_type": "markdown",
   "id": "d811956a",
   "metadata": {},
   "source": [
    "##### 17 ***"
   ]
  },
  {
   "cell_type": "code",
   "execution_count": 29,
   "id": "ef9728e4",
   "metadata": {},
   "outputs": [
    {
     "name": "stdout",
     "output_type": "stream",
     "text": [
      "hamada gamed\n",
      "character count: \n",
      "h : 1\n",
      "a : 4\n",
      "m : 2\n",
      "d : 2\n",
      "  : 1\n",
      "g : 1\n",
      "e : 1\n"
     ]
    }
   ],
   "source": [
    "string = input()\n",
    "char_count = {}\n",
    "for char in string:\n",
    "    if char in char_count:\n",
    "        char_count[char] += 1\n",
    "    else:\n",
    "        char_count[char] = 1\n",
    "\n",
    "print(\"character count: \")\n",
    "for char , count in char_count.items():\n",
    "    print(char , \":\" , count)"
   ]
  },
  {
   "cell_type": "markdown",
   "id": "a38f31ce",
   "metadata": {},
   "source": [
    "##### 18 ***"
   ]
  },
  {
   "cell_type": "code",
   "execution_count": 32,
   "id": "4f30ba86",
   "metadata": {},
   "outputs": [
    {
     "name": "stdout",
     "output_type": "stream",
     "text": [
      "hello world\n",
      "h\n"
     ]
    }
   ],
   "source": [
    "def first_none_repeating_char(string):\n",
    "    char_count = {}\n",
    "    for char in string:\n",
    "        if char in char_count:\n",
    "            char_count[char] += 1\n",
    "        else:\n",
    "            char_count[char] = 1\n",
    "    for char in string:\n",
    "        if char_count[char] == 1:\n",
    "            return char\n",
    "    return None\n",
    "\n",
    "\n",
    "String = input()\n",
    "result = first_none_repeating_char(String)\n",
    "print(result)\n"
   ]
  },
  {
   "cell_type": "markdown",
   "id": "449e1985",
   "metadata": {},
   "source": [
    "##### 19"
   ]
  },
  {
   "cell_type": "code",
   "execution_count": 34,
   "id": "118674b2",
   "metadata": {},
   "outputs": [
    {
     "name": "stdout",
     "output_type": "stream",
     "text": [
      "ahmed hafez\n",
      "ahmedhafez\n"
     ]
    }
   ],
   "source": [
    "string = input()\n",
    "print(string.replace(\" \" , \"\"))"
   ]
  },
  {
   "cell_type": "markdown",
   "id": "a7380492",
   "metadata": {},
   "source": [
    "##### 20"
   ]
  },
  {
   "cell_type": "code",
   "execution_count": 40,
   "id": "81abc707",
   "metadata": {},
   "outputs": [
    {
     "name": "stdout",
     "output_type": "stream",
     "text": [
      "hello\n",
      "15\n"
     ]
    }
   ],
   "source": [
    "string = input()\n",
    "n = len(string)\n",
    "result = int(n*(n+1)/2)\n",
    "print(result)"
   ]
  },
  {
   "cell_type": "markdown",
   "id": "46341ee4",
   "metadata": {},
   "source": [
    "##### 21"
   ]
  },
  {
   "cell_type": "code",
   "execution_count": 39,
   "id": "7cf3735a",
   "metadata": {},
   "outputs": [
    {
     "data": {
      "text/plain": [
       "['hafez', 'mina', 'ahmed', 'hamada']"
      ]
     },
     "execution_count": 39,
     "metadata": {},
     "output_type": "execute_result"
    }
   ],
   "source": [
    "list = [\"hamada\" , \"mina\" , \"ahmed\" , \"hafez\"]\n",
    "string = list[-1]\n",
    "list[-1] = list[0]\n",
    "list[0] = string\n",
    "list"
   ]
  },
  {
   "cell_type": "markdown",
   "id": "ce87568a",
   "metadata": {},
   "source": [
    "##### 22"
   ]
  },
  {
   "cell_type": "code",
   "execution_count": 46,
   "id": "ac0bc52e",
   "metadata": {},
   "outputs": [
    {
     "name": "stdout",
     "output_type": "stream",
     "text": [
      "1\n",
      "3\n"
     ]
    },
    {
     "data": {
      "text/plain": [
       "[19, 65, 23, 90]"
      ]
     },
     "execution_count": 46,
     "metadata": {},
     "output_type": "execute_result"
    }
   ],
   "source": [
    "list = [23, 65, 19, 90]\n",
    "pos_1 = int(input())-1\n",
    "pos_2 = int(input())-1\n",
    "temp = list[pos_2]\n",
    "list[pos_2] = list[pos_1]\n",
    "list[pos_1] = temp\n",
    "list"
   ]
  },
  {
   "cell_type": "markdown",
   "id": "4b31b035",
   "metadata": {},
   "source": [
    "##### 23"
   ]
  },
  {
   "cell_type": "code",
   "execution_count": 48,
   "id": "b3fa2214",
   "metadata": {},
   "outputs": [
    {
     "name": "stdout",
     "output_type": "stream",
     "text": [
      "4\n",
      "4\n"
     ]
    }
   ],
   "source": [
    "# first method\n",
    "\n",
    "list = [24,25,26,85]\n",
    "print(len(list))\n",
    "\n",
    "# second method\n",
    "\n",
    "counter = 0\n",
    "for i in list:\n",
    "    counter += 1\n",
    "print(counter)\n"
   ]
  },
  {
   "cell_type": "markdown",
   "id": "226bf808",
   "metadata": {},
   "source": [
    "##### 24"
   ]
  },
  {
   "cell_type": "code",
   "execution_count": 52,
   "id": "d63a04f7",
   "metadata": {},
   "outputs": [
    {
     "name": "stdout",
     "output_type": "stream",
     "text": [
      "maximum number is  80\n"
     ]
    }
   ],
   "source": [
    "list = [25,26,28,29,78,80]\n",
    "max_number = list[0]\n",
    "for num in list:\n",
    "    if num > max_number:\n",
    "        max_number = num\n",
    "print(\"maximum number is \",max_number)"
   ]
  },
  {
   "cell_type": "markdown",
   "id": "c39f42c8",
   "metadata": {},
   "source": [
    "##### 25"
   ]
  },
  {
   "cell_type": "code",
   "execution_count": 51,
   "id": "55480f33",
   "metadata": {},
   "outputs": [
    {
     "name": "stdout",
     "output_type": "stream",
     "text": [
      "minimum number is  25\n"
     ]
    }
   ],
   "source": [
    "list = [25,26,28,29,78,80]\n",
    "min_number = list[0]\n",
    "for num in list:\n",
    "    if num < min_number:\n",
    "        min_number = num\n",
    "print(\"minimum number is \",min_number)"
   ]
  },
  {
   "cell_type": "markdown",
   "id": "047b21bf",
   "metadata": {},
   "source": [
    "##### 26"
   ]
  },
  {
   "cell_type": "code",
   "execution_count": 53,
   "id": "19c1f371",
   "metadata": {},
   "outputs": [
    {
     "name": "stdout",
     "output_type": "stream",
     "text": [
      "number found\n"
     ]
    }
   ],
   "source": [
    "list = [24,25,26,282,90]\n",
    "for number in list:\n",
    "    if number == 282:\n",
    "        print(\"number found\")\n",
    "        "
   ]
  },
  {
   "cell_type": "markdown",
   "id": "369abde6",
   "metadata": {},
   "source": [
    "##### 27"
   ]
  },
  {
   "cell_type": "code",
   "execution_count": 58,
   "id": "a051f897",
   "metadata": {},
   "outputs": [
    {
     "data": {
      "text/plain": [
       "[]"
      ]
     },
     "execution_count": 58,
     "metadata": {},
     "output_type": "execute_result"
    }
   ],
   "source": [
    "# first method \n",
    "\n",
    "list = [28,51,93,80,51]\n",
    "list.clear()\n",
    "list\n",
    "\n",
    "# second method\n",
    "\n",
    "list = [28,51,93,80,51]\n",
    "list = [] \n",
    "list\n",
    "\n",
    "# third method\n",
    "\n",
    "list = [28,51,93,80,51]\n",
    "list[:] = []\n",
    "list\n",
    "\n",
    "# fourth method\n",
    "\n",
    "list = [28,51,93,80,51]\n",
    "del list[0:len(list)]\n",
    "list\n",
    "\n",
    "# fifth method\n",
    "\n",
    "list = [28,51,93,80,51]\n",
    "list = [i for i in []]\n",
    "list"
   ]
  },
  {
   "cell_type": "markdown",
   "id": "3ab2be13",
   "metadata": {},
   "source": [
    "##### 28"
   ]
  },
  {
   "cell_type": "code",
   "execution_count": 1,
   "id": "249f14fd",
   "metadata": {},
   "outputs": [
    {
     "name": "stdout",
     "output_type": "stream",
     "text": [
      "[1, 2, 3, 4]\n"
     ]
    }
   ],
   "source": [
    "lst = [1, 2, 3, 4, 2, 1]\n",
    "s = set(lst)  \n",
    "result = list(s)\n",
    "print(result)"
   ]
  },
  {
   "cell_type": "markdown",
   "id": "6f776346",
   "metadata": {},
   "source": [
    "##### 29 ***"
   ]
  },
  {
   "cell_type": "code",
   "execution_count": 2,
   "id": "a8558b68",
   "metadata": {},
   "outputs": [
    {
     "name": "stdout",
     "output_type": "stream",
     "text": [
      "[{'name': 'Gfg', 'id': 3}, {'name': 'is', 'id': 8}]\n"
     ]
    }
   ],
   "source": [
    "test_list = [\"Gfg\", 3, \"is\", 8]\n",
    "key_list = [\"name\", \"id\"]\n",
    "\n",
    "output = []\n",
    "for i in range(0, len(test_list), len(key_list)):\n",
    "    temp_dict = {}\n",
    "    for j, key in enumerate(key_list):\n",
    "        temp_dict[key] = test_list[i + j]\n",
    "    output.append(temp_dict)\n",
    "\n",
    "print(output)"
   ]
  },
  {
   "cell_type": "markdown",
   "id": "eed9aad5",
   "metadata": {},
   "source": [
    "##### 30 "
   ]
  },
  {
   "cell_type": "code",
   "execution_count": 12,
   "id": "690779d7",
   "metadata": {},
   "outputs": [
    {
     "name": "stdout",
     "output_type": "stream",
     "text": [
      "6\n",
      "6\n",
      "6\n"
     ]
    }
   ],
   "source": [
    "# first method\n",
    "\n",
    "list = [1,2,3,5,4,60,5,5,5,5]\n",
    "unique_values = set(list)\n",
    "print(len(unique_values))\n",
    "\n",
    "# second method\n",
    "\n",
    "list = [1,2,3,5,4,60,5,5,5,5]\n",
    "counts = {}\n",
    "for value in list:\n",
    "    if value in counts:\n",
    "        counts[value] += 1\n",
    "    else:\n",
    "        counts[value] = 1\n",
    "print(len(counts))\n",
    "\n",
    "# third method\n",
    "\n",
    "from collections import Counter\n",
    "list = [1,2,3,5,4,60,5,5,5,5]\n",
    "counts = Counter(list)\n",
    "print(len(counts))"
   ]
  },
  {
   "cell_type": "markdown",
   "id": "3567be03",
   "metadata": {},
   "source": [
    "##### 31"
   ]
  },
  {
   "cell_type": "code",
   "execution_count": 13,
   "id": "bd610b7f",
   "metadata": {},
   "outputs": [
    {
     "name": "stdout",
     "output_type": "stream",
     "text": [
      "[4, 3]\n"
     ]
    }
   ],
   "source": [
    "test_list = [4, 6, 4, 3, 3, 4, 3, 4, 3, 8]\n",
    "K = 3\n",
    "\n",
    "from collections import Counter\n",
    "counts = Counter(test_list)\n",
    "\n",
    "result = [elem for elem, count in counts.items() if count > K]\n",
    "\n",
    "print(result)"
   ]
  },
  {
   "cell_type": "markdown",
   "id": "5b84f960",
   "metadata": {},
   "source": [
    "##### 32"
   ]
  },
  {
   "cell_type": "code",
   "execution_count": 19,
   "id": "041b45d1",
   "metadata": {},
   "outputs": [
    {
     "name": "stdout",
     "output_type": "stream",
     "text": [
      "2 2 3 4 5 "
     ]
    }
   ],
   "source": [
    "def maximumAdjacent(arr1, n):\n",
    "   \n",
    "    arr2 = [] \n",
    "    for i in range(1, n):\n",
    "        r = max(arr1[i], arr1[i-1])\n",
    "        arr2.append(r)\n",
    "         \n",
    "    for ele in arr2 :\n",
    "        print(ele,end=\" \")\n",
    "   \n",
    "n = 6 \n",
    "arr1 = [1,2,2,3,4,5]\n",
    "maximumAdjacent(arr1, n)"
   ]
  },
  {
   "cell_type": "markdown",
   "id": "1ee9c5a1",
   "metadata": {},
   "source": [
    "##### 33"
   ]
  },
  {
   "cell_type": "code",
   "execution_count": 25,
   "id": "02915a4b",
   "metadata": {},
   "outputs": [
    {
     "name": "stdout",
     "output_type": "stream",
     "text": [
      "(1, 2, 3)\n",
      "(1, 3, 2)\n",
      "(2, 1, 3)\n",
      "(2, 3, 1)\n",
      "(3, 1, 2)\n",
      "(3, 2, 1)\n"
     ]
    }
   ],
   "source": [
    "from itertools import permutations\n",
    "\n",
    "input_list = [1, 2, 3]\n",
    "combinations = permutations(input_list)\n",
    "for combination in combinations:\n",
    "    print(*combination, sep=' ')"
   ]
  },
  {
   "cell_type": "markdown",
   "id": "bb1aa04d",
   "metadata": {},
   "source": [
    "##### 34***"
   ]
  },
  {
   "cell_type": "code",
   "execution_count": 29,
   "id": "d2c8ddff",
   "metadata": {},
   "outputs": [
    {
     "name": "stdout",
     "output_type": "stream",
     "text": [
      "[(1,), (2,), (1, 2), (1, 3), (2, 3), (1, 2, 3)]\n"
     ]
    }
   ],
   "source": [
    "from itertools import combinations\n",
    "\n",
    "test_list = [1, 2, 3]\n",
    "\n",
    "# Using combinations to generate all possible combinations of the elements in the list\n",
    "combinations_list = []\n",
    "for i in range(1, len(test_list)+1):\n",
    "    temp_combinations = combinations(test_list, i)\n",
    "    combinations_list.extend(temp_combinations)\n",
    "\n",
    "# Using a list comprehension to filter out the combinations that don't meet the condition\n",
    "result = [combination for combination in combinations_list if any(elem in combination for elem in [1, 2])]\n",
    "\n",
    "# Printing the output\n",
    "print(result)"
   ]
  },
  {
   "cell_type": "markdown",
   "id": "2fa78b77",
   "metadata": {},
   "source": [
    "##### 35***"
   ]
  },
  {
   "cell_type": "code",
   "execution_count": 4,
   "id": "c5ab45b5",
   "metadata": {},
   "outputs": [
    {
     "name": "stdout",
     "output_type": "stream",
     "text": [
      "[['a', 1], ['a', 2], ['b', 1], ['b', 2]]\n"
     ]
    }
   ],
   "source": [
    "import itertools\n",
    "\n",
    "List_1 = [\"a\", \"b\"]\n",
    "List_2 = [1, 2]\n",
    "\n",
    "Unique_combination = list(itertools.product(List_1, List_2))\n",
    "Unique_combination = [list(comb) for comb in Unique_combination]\n",
    "\n",
    "print(Unique_combination)"
   ]
  },
  {
   "cell_type": "markdown",
   "id": "ee207824",
   "metadata": {},
   "source": [
    "##### 36***"
   ]
  },
  {
   "cell_type": "code",
   "execution_count": 25,
   "id": "b7119c8f",
   "metadata": {},
   "outputs": [
    {
     "data": {
      "text/plain": [
       "[2, 3, 4, 5, 2]"
      ]
     },
     "execution_count": 25,
     "metadata": {},
     "output_type": "execute_result"
    }
   ],
   "source": [
    "my_list = [1 ,1 ,2 ,3 ,4 ,5 ,1 ,2 , 1]\n",
    "for value in my_list:\n",
    "    if value == 1:\n",
    "        my_list.remove(value)\n",
    "my_list.remove(1)\n",
    "my_list"
   ]
  },
  {
   "cell_type": "markdown",
   "id": "efe5b6c9",
   "metadata": {},
   "source": [
    "##### 37"
   ]
  },
  {
   "cell_type": "code",
   "execution_count": 44,
   "id": "451bcd90",
   "metadata": {},
   "outputs": [
    {
     "name": "stdout",
     "output_type": "stream",
     "text": [
      "['Gfg', 'is', 'best', 'is', 'Gfg', 'Gfg', 'Gfg', 'best', 'is', 'is', 'best', 'Gfg']\n"
     ]
    }
   ],
   "source": [
    "list_1 = [\"Gfg\", \"is\", \"best\"]\n",
    "list_2 = [0, 1, 2, 1, 0, 0, 0, 2, 1, 1, 2, 0]\n",
    "\n",
    "for i in range(0,len(list_2)):\n",
    "    if list_2[i] == 0:\n",
    "        list_2[i] = list_1[0]\n",
    "    elif list_2[i] == 1:\n",
    "        list_2[i] = list_1[1]\n",
    "    else:\n",
    "        list_2[i] = list_1[2]\n",
    "print(list_2)"
   ]
  },
  {
   "cell_type": "markdown",
   "id": "d185dda4",
   "metadata": {},
   "source": [
    "##### 38"
   ]
  },
  {
   "cell_type": "code",
   "execution_count": 45,
   "id": "716463f2",
   "metadata": {},
   "outputs": [
    {
     "name": "stdout",
     "output_type": "stream",
     "text": [
      "[(4, 5, 5, 4)]\n",
      "[]\n"
     ]
    }
   ],
   "source": [
    "def retain_records(test_list, K, N):\n",
    "    result = []\n",
    "    for tpl in test_list:\n",
    "        if tpl.count(K) == N:\n",
    "            result.append(tpl)\n",
    "    return result\n",
    "\n",
    "test_list = [(4, 5, 5, 4), (5, 4, 3)]\n",
    "K = 5\n",
    "N = 2\n",
    "print(retain_records(test_list, K, N)) \n",
    "\n",
    "K = 5\n",
    "N = 3\n",
    "print(retain_records(test_list, K, N)) "
   ]
  },
  {
   "cell_type": "markdown",
   "id": "c34dbb22",
   "metadata": {},
   "source": [
    "##### 39"
   ]
  },
  {
   "cell_type": "code",
   "execution_count": 46,
   "id": "81630592",
   "metadata": {},
   "outputs": [
    {
     "name": "stdout",
     "output_type": "stream",
     "text": [
      "Sorted array specific to column 0, [[1, 3, 3], [2, 1, 2], [3, 2, 1]]\n",
      "Sorted array specific to column 1, [[2, 1, 2], [3, 2, 1], [1, 3, 3]]\n",
      "Sorted array specific to column 2, [[3, 2, 1], [2, 1, 2], [1, 3, 3]]\n"
     ]
    }
   ],
   "source": [
    "array = [[1, 3, 3], [2, 1, 2], [3, 2, 1]]\n",
    "\n",
    "def sort_list_by_column(arr, col):\n",
    "    return sorted(arr, key=lambda x: x[col])\n",
    "\n",
    "for i in range(len(array[0])):\n",
    "    print(f\"Sorted array specific to column {i}, {sort_list_by_column(array, i)}\")"
   ]
  },
  {
   "cell_type": "markdown",
   "id": "138a485b",
   "metadata": {},
   "source": [
    "##### 40"
   ]
  },
  {
   "cell_type": "code",
   "execution_count": 47,
   "id": "4ec410e6",
   "metadata": {},
   "outputs": [
    {
     "name": "stdout",
     "output_type": "stream",
     "text": [
      "Sorted dictionary by key: {'rajnish': 9, 'ravi': 10, 'sanjeev': 15, 'suraj': 32, 'yash': 2}\n",
      "Sorted dictionary by value: {'yash': 2, 'rajnish': 9, 'ravi': 10, 'sanjeev': 15, 'suraj': 32}\n"
     ]
    }
   ],
   "source": [
    "my_dict = {'ravi': 10, 'rajnish': 9, 'sanjeev': 15, 'yash': 2, 'suraj': 32}\n",
    "\n",
    "sorted_dict_by_key = dict(sorted(my_dict.items()))\n",
    "\n",
    "sorted_dict_by_value = dict(sorted(my_dict.items(), key=lambda x: x[1]))\n",
    "\n",
    "print(\"Sorted dictionary by key:\", sorted_dict_by_key)\n",
    "print(\"Sorted dictionary by value:\", sorted_dict_by_value)"
   ]
  },
  {
   "cell_type": "markdown",
   "id": "0861f9a6",
   "metadata": {},
   "source": [
    "##### 41"
   ]
  },
  {
   "cell_type": "code",
   "execution_count": 31,
   "id": "400cdf6e",
   "metadata": {},
   "outputs": [
    {
     "name": "stdout",
     "output_type": "stream",
     "text": [
      "{'Gfg': 3, 'is': 7, 'for': 6}\n"
     ]
    }
   ],
   "source": [
    "test_dict = {'Gfg': 3, 'is': 7, 'best': 10, 'for': 6,}\n",
    "K = 7\n",
    "\n",
    "output_dict = {key: value for key, value in test_dict.items() if value <= K}\n",
    "\n",
    "print(output_dict)"
   ]
  },
  {
   "cell_type": "markdown",
   "id": "c39e2096",
   "metadata": {},
   "source": [
    "##### 42"
   ]
  },
  {
   "cell_type": "code",
   "execution_count": 55,
   "id": "1e2c4346",
   "metadata": {},
   "outputs": [
    {
     "name": "stdout",
     "output_type": "stream",
     "text": [
      "{1: 10, 2: 20, 3: 30, 4: 40, 5: 50, 6: 60}\n"
     ]
    }
   ],
   "source": [
    "dic1 = {1:10, 2:20}\n",
    "dic2 = {3:30, 4:40}\n",
    "dic3 = {5:50, 6:60}\n",
    "\n",
    "result_dict = {**dic1, **dic2, **dic3}\n",
    "\n",
    "print(result_dict)"
   ]
  },
  {
   "cell_type": "markdown",
   "id": "1b3a80b6",
   "metadata": {},
   "source": [
    "##### 43"
   ]
  },
  {
   "cell_type": "code",
   "execution_count": 59,
   "id": "7f0be9e2",
   "metadata": {},
   "outputs": [
    {
     "name": "stdout",
     "output_type": "stream",
     "text": [
      "iterating over key\n",
      "apple\n",
      "banana\n",
      "orange\n",
      "iterating over values\n",
      "2\n",
      "4\n",
      "3\n",
      "iterating over both keys and values\n",
      "apple : 2\n",
      "banana : 4\n",
      "orange : 3\n"
     ]
    }
   ],
   "source": [
    "my_dict = {'apple': 2, 'banana': 4, 'orange': 3}\n",
    "\n",
    "print(\"iterating over key\")\n",
    "for key in my_dict:\n",
    "    print(key)\n",
    "\n",
    "print(\"iterating over values\")\n",
    "for value in my_dict.values():\n",
    "    print(value)\n",
    "    \n",
    "print(\"iterating over both keys and values\")\n",
    "for key , value in my_dict.items():\n",
    "    print(key, ':', value)"
   ]
  },
  {
   "cell_type": "markdown",
   "id": "58de4ee0",
   "metadata": {},
   "source": [
    "##### 44"
   ]
  },
  {
   "cell_type": "code",
   "execution_count": 60,
   "id": "795791d3",
   "metadata": {},
   "outputs": [
    {
     "name": "stdout",
     "output_type": "stream",
     "text": [
      "{'apple': 2, 'banana': 4, 'orange': 3, 'pear': 1, 'kiwi': 5}\n"
     ]
    }
   ],
   "source": [
    "dic_1 = {'apple': 2, 'banana': 4, 'orange': 3}\n",
    "dic_2 = {'pear': 1, 'kiwi': 5}\n",
    "merged_dic = {**dic_1 , **dic_2}\n",
    "print(merged_dic)"
   ]
  },
  {
   "cell_type": "markdown",
   "id": "eb863025",
   "metadata": {},
   "source": [
    "##### 45"
   ]
  },
  {
   "cell_type": "code",
   "execution_count": 63,
   "id": "dd4d2e63",
   "metadata": {},
   "outputs": [
    {
     "name": "stdout",
     "output_type": "stream",
     "text": [
      "35\n"
     ]
    }
   ],
   "source": [
    "dic = {'mina':21 , 'ahmed':35 , 'salah':26}\n",
    "max = dic[\"mina\"]\n",
    "for value in dic.values():\n",
    "    if value >= max:\n",
    "        max = value\n",
    "print(max)    "
   ]
  },
  {
   "cell_type": "markdown",
   "id": "9d84857d",
   "metadata": {},
   "source": [
    "##### 46***\n"
   ]
  },
  {
   "cell_type": "code",
   "execution_count": 73,
   "id": "ef695a5b",
   "metadata": {},
   "outputs": [
    {
     "name": "stdout",
     "output_type": "stream",
     "text": [
      "{'c1': 'Red', 'c2': 'Green', 'c3': None}\n"
     ]
    }
   ],
   "source": [
    "dic = {'c1': 'Red', 'c2': 'Green', 'c3': None}\n",
    "for value in dic.values():\n",
    "    if value == None:\n",
    "        dic.popitem()\n",
    "        break\n",
    "print(dic)"
   ]
  },
  {
   "cell_type": "markdown",
   "id": "aad2ed2c",
   "metadata": {},
   "source": [
    "##### 47"
   ]
  },
  {
   "cell_type": "code",
   "execution_count": 76,
   "id": "ca06d00d",
   "metadata": {},
   "outputs": [
    {
     "name": "stdout",
     "output_type": "stream",
     "text": [
      "8\n"
     ]
    }
   ],
   "source": [
    "tup = (1,2,2,4,8,7,8)\n",
    "print(tup[4])"
   ]
  },
  {
   "cell_type": "markdown",
   "id": "ecbf0fa1",
   "metadata": {},
   "source": [
    "##### 48"
   ]
  },
  {
   "cell_type": "code",
   "execution_count": 82,
   "id": "f79b926d",
   "metadata": {},
   "outputs": [
    {
     "name": "stdout",
     "output_type": "stream",
     "text": [
      "1 2 2 Ahmed\n"
     ]
    }
   ],
   "source": [
    "tup = (1,2,2,\"Ahmed\")\n",
    "number1 , number2 , number3 , name = tup\n",
    "print(number1 , number2 , number3 , name)"
   ]
  },
  {
   "cell_type": "markdown",
   "id": "9a090c36",
   "metadata": {},
   "source": [
    "##### 49 "
   ]
  },
  {
   "cell_type": "code",
   "execution_count": 83,
   "id": "3c32058d",
   "metadata": {},
   "outputs": [
    {
     "name": "stdout",
     "output_type": "stream",
     "text": [
      "(1, 2, 2, 'Ahmed', 'hamada')\n"
     ]
    }
   ],
   "source": [
    "tup = (1,2,2,\"Ahmed\")\n",
    "lis = list(tup)\n",
    "lis.append(\"hamada\")\n",
    "new_tup = tuple(lis)\n",
    "print(new_tup)"
   ]
  },
  {
   "cell_type": "markdown",
   "id": "adddee41",
   "metadata": {},
   "source": [
    "##### 50"
   ]
  },
  {
   "cell_type": "code",
   "execution_count": 85,
   "id": "d3f678e3",
   "metadata": {},
   "outputs": [
    {
     "data": {
      "text/plain": [
       "'abc'"
      ]
     },
     "execution_count": 85,
     "metadata": {},
     "output_type": "execute_result"
    }
   ],
   "source": [
    "tup = ('a','b','c')\n",
    "my_str = ''.join(tup)\n",
    "my_str"
   ]
  },
  {
   "cell_type": "markdown",
   "id": "9f8ad3a0",
   "metadata": {},
   "source": [
    "##### 51"
   ]
  },
  {
   "cell_type": "code",
   "execution_count": 87,
   "id": "4a958981",
   "metadata": {},
   "outputs": [
    {
     "data": {
      "text/plain": [
       "(1, 2, 3, 5, 'ahmed')"
      ]
     },
     "execution_count": 87,
     "metadata": {},
     "output_type": "execute_result"
    }
   ],
   "source": [
    "lis = [1,2,3,5,\"ahmed\"]\n",
    "tup = tuple(lis)\n",
    "tup"
   ]
  },
  {
   "cell_type": "markdown",
   "id": "dac4fd88",
   "metadata": {},
   "source": [
    "##### 52"
   ]
  },
  {
   "cell_type": "code",
   "execution_count": 100,
   "id": "e9fcbbb7",
   "metadata": {},
   "outputs": [
    {
     "data": {
      "text/plain": [
       "('Ahmed', 2, 2, 1)"
      ]
     },
     "execution_count": 100,
     "metadata": {},
     "output_type": "execute_result"
    }
   ],
   "source": [
    "tup = (1,2,2,\"Ahmed\")\n",
    "lis = list(tup)\n",
    "lis.reverse()\n",
    "tup = tuple(lis)\n",
    "tup"
   ]
  },
  {
   "cell_type": "markdown",
   "id": "293683e6",
   "metadata": {},
   "source": [
    "##### 53"
   ]
  },
  {
   "cell_type": "code",
   "execution_count": 102,
   "id": "379479e4",
   "metadata": {},
   "outputs": [
    {
     "data": {
      "text/plain": [
       "[(10, 20, 100), (40, 50, 100), (70, 80, 100)]"
      ]
     },
     "execution_count": 102,
     "metadata": {},
     "output_type": "execute_result"
    }
   ],
   "source": [
    "lis = [(10, 20, 40), (40, 50, 60), (70, 80, 90)]\n",
    "new_value = 100\n",
    "new_list = [tuple(lst[:-1]) + (new_value,) for lst in lis]\n",
    "new_list"
   ]
  },
  {
   "cell_type": "markdown",
   "id": "70e5d6f3",
   "metadata": {},
   "source": [
    "##### 54"
   ]
  },
  {
   "cell_type": "code",
   "execution_count": 103,
   "id": "788c0d1a",
   "metadata": {},
   "outputs": [
    {
     "data": {
      "text/plain": [
       "('a', 'h', 'm', 'e', 'd')"
      ]
     },
     "execution_count": 103,
     "metadata": {},
     "output_type": "execute_result"
    }
   ],
   "source": [
    "my_str = \"ahmed\"\n",
    "tup = tuple(my_str)\n",
    "tup"
   ]
  },
  {
   "cell_type": "markdown",
   "id": "db800849",
   "metadata": {},
   "source": [
    "##### 55"
   ]
  },
  {
   "cell_type": "code",
   "execution_count": 107,
   "id": "9abd8cae",
   "metadata": {},
   "outputs": [
    {
     "name": "stdout",
     "output_type": "stream",
     "text": [
      "13.5\n"
     ]
    }
   ],
   "source": [
    "tup = (1,2,3,4,5,6,7,80)\n",
    "sum = 0\n",
    "for value in tup:\n",
    "    sum += value\n",
    "average = sum/len(tup)\n",
    "print(average)"
   ]
  },
  {
   "cell_type": "markdown",
   "id": "c65d66ab",
   "metadata": {},
   "source": [
    "##### 56"
   ]
  },
  {
   "cell_type": "code",
   "execution_count": 108,
   "id": "20fe38f4",
   "metadata": {},
   "outputs": [
    {
     "data": {
      "text/plain": [
       "{1, 2, 3, 5, 6, 8, 'ahmed'}"
      ]
     },
     "execution_count": 108,
     "metadata": {},
     "output_type": "execute_result"
    }
   ],
   "source": [
    "set = {1,2,5,3,6,8}\n",
    "set.add(\"ahmed\")\n",
    "set"
   ]
  },
  {
   "cell_type": "markdown",
   "id": "fb74d7cd",
   "metadata": {},
   "source": [
    "##### 57"
   ]
  },
  {
   "cell_type": "code",
   "execution_count": 109,
   "id": "f44d5fa3",
   "metadata": {},
   "outputs": [
    {
     "data": {
      "text/plain": [
       "{2, 3, 5, 6, 8}"
      ]
     },
     "execution_count": 109,
     "metadata": {},
     "output_type": "execute_result"
    }
   ],
   "source": [
    "set = {1,2,5,3,6,8}\n",
    "set.remove(1)\n",
    "set"
   ]
  },
  {
   "cell_type": "markdown",
   "id": "97695de3",
   "metadata": {},
   "source": [
    "##### 58"
   ]
  },
  {
   "cell_type": "code",
   "execution_count": 3,
   "id": "f51c3145",
   "metadata": {},
   "outputs": [
    {
     "name": "stdout",
     "output_type": "stream",
     "text": [
      "{1}\n",
      "{1, 2, 3, 4, 5, 6, 'Ahmed', 70, 80, 50, 20, 'Hamada', 60, 30}\n",
      "{2, 3, 4, 5, 6}\n",
      "{2, 3, 4, 5, 6, 50, 20, 30}\n"
     ]
    }
   ],
   "source": [
    "set_1 = {1,2,3,4,5,6,80}\n",
    "set_2 = {1,20,30,50,80}\n",
    "set_3 = {'Ahmed' , 'Hamada' , 60,70,30 , 1}\n",
    "intersection = set_1.intersection(set_2 , set_3)\n",
    "union = set_1.union(set_2 , set_3)\n",
    "difference = set_1.difference(set_2)\n",
    "sym_difference = set_1.symmetric_difference(set_2)\n",
    "print(intersection)\n",
    "print(union)\n",
    "print(difference)\n",
    "print(sym_difference)"
   ]
  },
  {
   "cell_type": "markdown",
   "id": "501670c6",
   "metadata": {},
   "source": [
    "##### 59"
   ]
  },
  {
   "cell_type": "code",
   "execution_count": 9,
   "id": "331552e5",
   "metadata": {},
   "outputs": [
    {
     "name": "stdout",
     "output_type": "stream",
     "text": [
      "6\n",
      "1\n"
     ]
    }
   ],
   "source": [
    "set = {1,2,3,4,5,3,6}\n",
    "max = max(set)\n",
    "min = min(set)\n",
    "print(max)\n",
    "print(min)"
   ]
  },
  {
   "cell_type": "markdown",
   "id": "2703378f",
   "metadata": {},
   "source": [
    "##### 60"
   ]
  },
  {
   "cell_type": "code",
   "execution_count": 13,
   "id": "91d2570d",
   "metadata": {},
   "outputs": [
    {
     "name": "stdout",
     "output_type": "stream",
     "text": [
      "Pairs of elements whose sum is equal to 10 :\n",
      "(3, 7)\n"
     ]
    }
   ],
   "source": [
    "list = [1,2,3,5,4,7,80]\n",
    "sum = 10\n",
    "result = []\n",
    "for i in range(len(list)):\n",
    "    for j in range(i+1 , len(list)):\n",
    "        if list[i] + list[j] == sum:\n",
    "            result.append((list[i] , list[j]))\n",
    "print(\"Pairs of elements whose sum is equal to\", sum, \":\")\n",
    "for pair in result:\n",
    "    print(pair)"
   ]
  }
 ],
 "metadata": {
  "kernelspec": {
   "display_name": "Python 3 (ipykernel)",
   "language": "python",
   "name": "python3"
  },
  "language_info": {
   "codemirror_mode": {
    "name": "ipython",
    "version": 3
   },
   "file_extension": ".py",
   "mimetype": "text/x-python",
   "name": "python",
   "nbconvert_exporter": "python",
   "pygments_lexer": "ipython3",
   "version": "3.10.9"
  }
 },
 "nbformat": 4,
 "nbformat_minor": 5
}
